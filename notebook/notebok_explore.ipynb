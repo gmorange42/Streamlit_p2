{
 "cells": [
  {
   "cell_type": "code",
   "execution_count": 1,
   "metadata": {},
   "outputs": [],
   "source": [
    "import pandas as pd \n"
   ]
  },
  {
   "cell_type": "code",
   "execution_count": 2,
   "metadata": {},
   "outputs": [],
   "source": [
    "import os"
   ]
  },
  {
   "cell_type": "code",
   "execution_count": 3,
   "metadata": {},
   "outputs": [],
   "source": [
    "\n",
    "#read csv data explore it in notebook\n",
    "df = pd.read_csv(r\"C:\\Users\\pythonist\\Documents\\lc_streamlit\\data\\pokemon_clean.csv\")"
   ]
  },
  {
   "cell_type": "code",
   "execution_count": 4,
   "metadata": {},
   "outputs": [
    {
     "name": "stdout",
     "output_type": "stream",
     "text": [
      "|    | Name          |       HP |   Attack |   Defense |   Sp. Atk |   Sp. Def |    Speed |   Generation | Legendary   | types        |   Bug |   Dark |   Dragon |   Electric |   Fairy |   Fighting |   Fire |   Flying |   Ghost |   Grass |   Ground |   Ice |   Normal |   Poison |   Psychic |   Rock |   Steel |   Water |\n",
      "|---:|:--------------|---------:|---------:|----------:|----------:|----------:|---------:|-------------:|:------------|:-------------|------:|-------:|---------:|-----------:|--------:|-----------:|-------:|---------:|--------:|--------:|---------:|------:|---------:|---------:|----------:|-------:|--------:|--------:|\n",
      "|  0 | Bulbasaur     | 0.173228 | 0.237838 |  0.195556 |  0.298913 |  0.214286 | 0.228571 |            1 | False       | Grass,Poison |     0 |      0 |        0 |          0 |       0 |          0 |      0 |        0 |       0 |       1 |        0 |     0 |        0 |        1 |         0 |      0 |       0 |       0 |\n",
      "|  1 | Ivysaur       | 0.232283 | 0.308108 |  0.257778 |  0.380435 |  0.285714 | 0.314286 |            1 | False       | Grass,Poison |     0 |      0 |        0 |          0 |       0 |          0 |      0 |        0 |       0 |       1 |        0 |     0 |        0 |        1 |         0 |      0 |       0 |       0 |\n",
      "|  2 | Venusaur      | 0.311024 | 0.416216 |  0.346667 |  0.48913  |  0.380952 | 0.428571 |            1 | False       | Grass,Poison |     0 |      0 |        0 |          0 |       0 |          0 |      0 |        0 |       0 |       1 |        0 |     0 |        0 |        1 |         0 |      0 |       0 |       0 |\n",
      "|  3 | Mega Venusaur | 0.311024 | 0.513514 |  0.524444 |  0.608696 |  0.47619  | 0.428571 |            1 | False       | Grass,Poison |     0 |      0 |        0 |          0 |       0 |          0 |      0 |        0 |       0 |       1 |        0 |     0 |        0 |        1 |         0 |      0 |       0 |       0 |\n",
      "|  4 | Charmander    | 0.149606 | 0.254054 |  0.168889 |  0.271739 |  0.142857 | 0.342857 |            1 | False       | Fire         |     0 |      0 |        0 |          0 |       0 |          0 |      1 |        0 |       0 |       0 |        0 |     0 |        0 |        0 |         0 |      0 |       0 |       0 |\n"
     ]
    }
   ],
   "source": [
    "print(df.head().to_markdown())"
   ]
  },
  {
   "cell_type": "code",
   "execution_count": null,
   "metadata": {},
   "outputs": [],
   "source": []
  }
 ],
 "metadata": {
  "kernelspec": {
   "display_name": "nom_env",
   "language": "python",
   "name": "python3"
  },
  "language_info": {
   "codemirror_mode": {
    "name": "ipython",
    "version": 3
   },
   "file_extension": ".py",
   "mimetype": "text/x-python",
   "name": "python",
   "nbconvert_exporter": "python",
   "pygments_lexer": "ipython3",
   "version": "3.11.9"
  }
 },
 "nbformat": 4,
 "nbformat_minor": 2
}
